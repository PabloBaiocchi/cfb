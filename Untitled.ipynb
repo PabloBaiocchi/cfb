{
 "cells": [
  {
   "cell_type": "code",
   "execution_count": 119,
   "id": "impaired-strip",
   "metadata": {},
   "outputs": [],
   "source": [
    "import pandas as pd"
   ]
  },
  {
   "cell_type": "code",
   "execution_count": 145,
   "id": "collectible-bottom",
   "metadata": {},
   "outputs": [],
   "source": [
    "players=pd.read_csv('players0.csv')"
   ]
  },
  {
   "cell_type": "code",
   "execution_count": 146,
   "id": "fitted-morris",
   "metadata": {},
   "outputs": [
    {
     "data": {
      "text/plain": [
       "classYear\n",
       "2010    1651\n",
       "2011    2349\n",
       "2012    2416\n",
       "2013    2448\n",
       "2014    2651\n",
       "2015    2540\n",
       "2016    2650\n",
       "2017    2910\n",
       "2018    3022\n",
       "2019    3003\n",
       "2020    2899\n",
       "2021    2721\n",
       "2022    2111\n",
       "2023    1636\n",
       "2024     581\n",
       "dtype: int64"
      ]
     },
     "execution_count": 146,
     "metadata": {},
     "output_type": "execute_result"
    }
   ],
   "source": [
    "players.groupby('classYear').size()"
   ]
  },
  {
   "cell_type": "code",
   "execution_count": 147,
   "id": "municipal-hungarian",
   "metadata": {},
   "outputs": [],
   "source": [
    "ratings=pd.read_csv('ratings0.csv')"
   ]
  },
  {
   "cell_type": "code",
   "execution_count": 148,
   "id": "understanding-corpus",
   "metadata": {},
   "outputs": [
    {
     "data": {
      "text/html": [
       "<div>\n",
       "<style scoped>\n",
       "    .dataframe tbody tr th:only-of-type {\n",
       "        vertical-align: middle;\n",
       "    }\n",
       "\n",
       "    .dataframe tbody tr th {\n",
       "        vertical-align: top;\n",
       "    }\n",
       "\n",
       "    .dataframe thead th {\n",
       "        text-align: right;\n",
       "    }\n",
       "</style>\n",
       "<table border=\"1\" class=\"dataframe\">\n",
       "  <thead>\n",
       "    <tr style=\"text-align: right;\">\n",
       "      <th></th>\n",
       "      <th>type</th>\n",
       "      <th>link</th>\n",
       "      <th>rankingKey</th>\n",
       "      <th>rating</th>\n",
       "      <th>stateRank</th>\n",
       "      <th>stateAbbr</th>\n",
       "      <th>positionRank</th>\n",
       "      <th>positionAbbr</th>\n",
       "      <th>overallRank</th>\n",
       "      <th>stars</th>\n",
       "      <th>fiveStarPlus</th>\n",
       "      <th>change</th>\n",
       "      <th>key</th>\n",
       "    </tr>\n",
       "  </thead>\n",
       "  <tbody>\n",
       "    <tr>\n",
       "      <th>0</th>\n",
       "      <td>Consensus</td>\n",
       "      <td>NaN</td>\n",
       "      <td>1</td>\n",
       "      <td>98.766667</td>\n",
       "      <td>1.0</td>\n",
       "      <td>CA</td>\n",
       "      <td>1.0</td>\n",
       "      <td>LB</td>\n",
       "      <td>1.0</td>\n",
       "      <td>5.0</td>\n",
       "      <td>False</td>\n",
       "      <td>NaN</td>\n",
       "      <td>102209</td>\n",
       "    </tr>\n",
       "    <tr>\n",
       "      <th>1</th>\n",
       "      <td>On3</td>\n",
       "      <td>NaN</td>\n",
       "      <td>1</td>\n",
       "      <td>NaN</td>\n",
       "      <td>NaN</td>\n",
       "      <td>CA</td>\n",
       "      <td>NaN</td>\n",
       "      <td>LB</td>\n",
       "      <td>NaN</td>\n",
       "      <td>NaN</td>\n",
       "      <td>False</td>\n",
       "      <td>NaN</td>\n",
       "      <td>102209</td>\n",
       "    </tr>\n",
       "    <tr>\n",
       "      <th>2</th>\n",
       "      <td>247</td>\n",
       "      <td>https://247sports.com/player/1039/</td>\n",
       "      <td>1</td>\n",
       "      <td>100.000000</td>\n",
       "      <td>1.0</td>\n",
       "      <td>CA</td>\n",
       "      <td>1.0</td>\n",
       "      <td>LB</td>\n",
       "      <td>1.0</td>\n",
       "      <td>5.0</td>\n",
       "      <td>False</td>\n",
       "      <td>NaN</td>\n",
       "      <td>102209</td>\n",
       "    </tr>\n",
       "    <tr>\n",
       "      <th>3</th>\n",
       "      <td>Espn</td>\n",
       "      <td>http://www.espn.com/college-sports/football/re...</td>\n",
       "      <td>1</td>\n",
       "      <td>89.000000</td>\n",
       "      <td>1.0</td>\n",
       "      <td>CA</td>\n",
       "      <td>1.0</td>\n",
       "      <td>LB</td>\n",
       "      <td>1.0</td>\n",
       "      <td>4.0</td>\n",
       "      <td>False</td>\n",
       "      <td>NaN</td>\n",
       "      <td>102209</td>\n",
       "    </tr>\n",
       "    <tr>\n",
       "      <th>4</th>\n",
       "      <td>Rivals</td>\n",
       "      <td>https://n.rivals.com/content/prospects/2010/ro...</td>\n",
       "      <td>1</td>\n",
       "      <td>6.100000</td>\n",
       "      <td>1.0</td>\n",
       "      <td>CA</td>\n",
       "      <td>1.0</td>\n",
       "      <td>LB</td>\n",
       "      <td>1.0</td>\n",
       "      <td>5.0</td>\n",
       "      <td>False</td>\n",
       "      <td>NaN</td>\n",
       "      <td>102209</td>\n",
       "    </tr>\n",
       "    <tr>\n",
       "      <th>...</th>\n",
       "      <td>...</td>\n",
       "      <td>...</td>\n",
       "      <td>...</td>\n",
       "      <td>...</td>\n",
       "      <td>...</td>\n",
       "      <td>...</td>\n",
       "      <td>...</td>\n",
       "      <td>...</td>\n",
       "      <td>...</td>\n",
       "      <td>...</td>\n",
       "      <td>...</td>\n",
       "      <td>...</td>\n",
       "      <td>...</td>\n",
       "    </tr>\n",
       "    <tr>\n",
       "      <th>178510</th>\n",
       "      <td>Consensus</td>\n",
       "      <td>NaN</td>\n",
       "      <td>211</td>\n",
       "      <td>81.333333</td>\n",
       "      <td>21.0</td>\n",
       "      <td>NJ</td>\n",
       "      <td>42.0</td>\n",
       "      <td>IOL</td>\n",
       "      <td>581.0</td>\n",
       "      <td>3.0</td>\n",
       "      <td>False</td>\n",
       "      <td>NaN</td>\n",
       "      <td>152061</td>\n",
       "    </tr>\n",
       "    <tr>\n",
       "      <th>178511</th>\n",
       "      <td>On3</td>\n",
       "      <td>NaN</td>\n",
       "      <td>211</td>\n",
       "      <td>81.000000</td>\n",
       "      <td>26.0</td>\n",
       "      <td>NJ</td>\n",
       "      <td>60.0</td>\n",
       "      <td>IOL</td>\n",
       "      <td>NaN</td>\n",
       "      <td>3.0</td>\n",
       "      <td>False</td>\n",
       "      <td>NaN</td>\n",
       "      <td>152061</td>\n",
       "    </tr>\n",
       "    <tr>\n",
       "      <th>178512</th>\n",
       "      <td>247</td>\n",
       "      <td>https://247sports.com/player/jaheem-reddick-46...</td>\n",
       "      <td>211</td>\n",
       "      <td>83.000000</td>\n",
       "      <td>19.0</td>\n",
       "      <td>NJ</td>\n",
       "      <td>25.0</td>\n",
       "      <td>IOL</td>\n",
       "      <td>NaN</td>\n",
       "      <td>3.0</td>\n",
       "      <td>False</td>\n",
       "      <td>NaN</td>\n",
       "      <td>152061</td>\n",
       "    </tr>\n",
       "    <tr>\n",
       "      <th>178513</th>\n",
       "      <td>Espn</td>\n",
       "      <td>NaN</td>\n",
       "      <td>211</td>\n",
       "      <td>NaN</td>\n",
       "      <td>NaN</td>\n",
       "      <td>NJ</td>\n",
       "      <td>NaN</td>\n",
       "      <td>IOL</td>\n",
       "      <td>NaN</td>\n",
       "      <td>NaN</td>\n",
       "      <td>False</td>\n",
       "      <td>NaN</td>\n",
       "      <td>152061</td>\n",
       "    </tr>\n",
       "    <tr>\n",
       "      <th>178514</th>\n",
       "      <td>Rivals</td>\n",
       "      <td>https://n.rivals.com/content/prospects/2024/ja...</td>\n",
       "      <td>211</td>\n",
       "      <td>5.500000</td>\n",
       "      <td>13.0</td>\n",
       "      <td>NJ</td>\n",
       "      <td>NaN</td>\n",
       "      <td>IOL</td>\n",
       "      <td>NaN</td>\n",
       "      <td>3.0</td>\n",
       "      <td>False</td>\n",
       "      <td>NaN</td>\n",
       "      <td>152061</td>\n",
       "    </tr>\n",
       "  </tbody>\n",
       "</table>\n",
       "<p>178515 rows × 13 columns</p>\n",
       "</div>"
      ],
      "text/plain": [
       "             type                                               link  \\\n",
       "0       Consensus                                                NaN   \n",
       "1             On3                                                NaN   \n",
       "2             247                 https://247sports.com/player/1039/   \n",
       "3            Espn  http://www.espn.com/college-sports/football/re...   \n",
       "4          Rivals  https://n.rivals.com/content/prospects/2010/ro...   \n",
       "...           ...                                                ...   \n",
       "178510  Consensus                                                NaN   \n",
       "178511        On3                                                NaN   \n",
       "178512        247  https://247sports.com/player/jaheem-reddick-46...   \n",
       "178513       Espn                                                NaN   \n",
       "178514     Rivals  https://n.rivals.com/content/prospects/2024/ja...   \n",
       "\n",
       "        rankingKey      rating  stateRank stateAbbr  positionRank  \\\n",
       "0                1   98.766667        1.0        CA           1.0   \n",
       "1                1         NaN        NaN        CA           NaN   \n",
       "2                1  100.000000        1.0        CA           1.0   \n",
       "3                1   89.000000        1.0        CA           1.0   \n",
       "4                1    6.100000        1.0        CA           1.0   \n",
       "...            ...         ...        ...       ...           ...   \n",
       "178510         211   81.333333       21.0        NJ          42.0   \n",
       "178511         211   81.000000       26.0        NJ          60.0   \n",
       "178512         211   83.000000       19.0        NJ          25.0   \n",
       "178513         211         NaN        NaN        NJ           NaN   \n",
       "178514         211    5.500000       13.0        NJ           NaN   \n",
       "\n",
       "       positionAbbr  overallRank  stars  fiveStarPlus change     key  \n",
       "0                LB          1.0    5.0         False    NaN  102209  \n",
       "1                LB          NaN    NaN         False    NaN  102209  \n",
       "2                LB          1.0    5.0         False    NaN  102209  \n",
       "3                LB          1.0    4.0         False    NaN  102209  \n",
       "4                LB          1.0    5.0         False    NaN  102209  \n",
       "...             ...          ...    ...           ...    ...     ...  \n",
       "178510          IOL        581.0    3.0         False    NaN  152061  \n",
       "178511          IOL          NaN    3.0         False    NaN  152061  \n",
       "178512          IOL          NaN    3.0         False    NaN  152061  \n",
       "178513          IOL          NaN    NaN         False    NaN  152061  \n",
       "178514          IOL          NaN    3.0         False    NaN  152061  \n",
       "\n",
       "[178515 rows x 13 columns]"
      ]
     },
     "execution_count": 148,
     "metadata": {},
     "output_type": "execute_result"
    }
   ],
   "source": [
    "ratings"
   ]
  },
  {
   "cell_type": "code",
   "execution_count": 149,
   "id": "hired-turner",
   "metadata": {},
   "outputs": [
    {
     "data": {
      "text/plain": [
       "35588"
      ]
     },
     "execution_count": 149,
     "metadata": {},
     "output_type": "execute_result"
    }
   ],
   "source": [
    "len(players)"
   ]
  },
  {
   "cell_type": "code",
   "execution_count": 150,
   "id": "floppy-chambers",
   "metadata": {},
   "outputs": [
    {
     "data": {
      "text/plain": [
       "35588"
      ]
     },
     "execution_count": 150,
     "metadata": {},
     "output_type": "execute_result"
    }
   ],
   "source": [
    "len(ratings.key.unique())"
   ]
  },
  {
   "cell_type": "code",
   "execution_count": 154,
   "id": "circular-partnership",
   "metadata": {},
   "outputs": [],
   "source": [
    "rivals=ratings[ratings.type=='Rivals'].copy()\n",
    "two47=ratings[ratings.type=='247'].copy()"
   ]
  },
  {
   "cell_type": "code",
   "execution_count": 155,
   "id": "hindu-vancouver",
   "metadata": {},
   "outputs": [
    {
     "data": {
      "text/plain": [
       "<AxesSubplot:>"
      ]
     },
     "execution_count": 155,
     "metadata": {},
     "output_type": "execute_result"
    },
    {
     "data": {
      "image/png": "[encoded data removed]",
      "text/plain": [
       "<Figure size 1080x720 with 1 Axes>"
      ]
     },
     "metadata": {
      "needs_background": "light"
     },
     "output_type": "display_data"
    }
   ],
   "source": [
    "rivals.rating.hist()"
   ]
  },
  {
   "cell_type": "code",
   "execution_count": 156,
   "id": "prostate-beatles",
   "metadata": {},
   "outputs": [
    {
     "data": {
      "text/plain": [
       "<AxesSubplot:>"
      ]
     },
     "execution_count": 156,
     "metadata": {},
     "output_type": "execute_result"
    },
    {
     "data": {
      "image/png": "[encoded data removed]",
      "text/plain": [
       "<Figure size 1080x720 with 1 Axes>"
      ]
     },
     "metadata": {
      "needs_background": "light"
     },
     "output_type": "display_data"
    }
   ],
   "source": [
    "two47.rating.hist()"
   ]
  },
  {
   "cell_type": "code",
   "execution_count": 157,
   "id": "wrapped-compiler",
   "metadata": {},
   "outputs": [
    {
     "data": {
      "text/plain": [
       "5.518176082592486"
      ]
     },
     "execution_count": 157,
     "metadata": {},
     "output_type": "execute_result"
    }
   ],
   "source": [
    "rivals.rating.mean()"
   ]
  },
  {
   "cell_type": "code",
   "execution_count": 158,
   "id": "after-bones",
   "metadata": {},
   "outputs": [
    {
     "data": {
      "text/plain": [
       "0.20595677648046368"
      ]
     },
     "execution_count": 158,
     "metadata": {},
     "output_type": "execute_result"
    }
   ],
   "source": [
    "rivals.rating.std()"
   ]
  },
  {
   "cell_type": "code",
   "execution_count": 159,
   "id": "cooperative-custom",
   "metadata": {},
   "outputs": [
    {
     "data": {
      "text/plain": [
       "83.03685003100364"
      ]
     },
     "execution_count": 159,
     "metadata": {},
     "output_type": "execute_result"
    }
   ],
   "source": [
    "two47.rating.mean()"
   ]
  },
  {
   "cell_type": "code",
   "execution_count": 160,
   "id": "public-viking",
   "metadata": {},
   "outputs": [
    {
     "data": {
      "text/plain": [
       "6.327010663274316"
      ]
     },
     "execution_count": 160,
     "metadata": {},
     "output_type": "execute_result"
    }
   ],
   "source": [
    "two47.rating.std()"
   ]
  },
  {
   "cell_type": "code",
   "execution_count": 161,
   "id": "seeing-individual",
   "metadata": {},
   "outputs": [
    {
     "data": {
      "text/plain": [
       "rating\n",
       "4.9    0.000028\n",
       "5.0    0.000140\n",
       "5.1    0.000392\n",
       "5.2    0.098143\n",
       "5.3    0.100076\n",
       "5.4    0.206957\n",
       "5.5    0.186063\n",
       "5.6    0.135815\n",
       "5.7    0.102260\n",
       "5.8    0.084895\n",
       "5.9    0.035263\n",
       "6.0    0.014397\n",
       "6.1    0.012240\n",
       "dtype: float64"
      ]
     },
     "execution_count": 161,
     "metadata": {},
     "output_type": "execute_result"
    }
   ],
   "source": [
    "rivals.groupby('rating').size()/len(rivals)"
   ]
  },
  {
   "cell_type": "code",
   "execution_count": 162,
   "id": "breathing-polyester",
   "metadata": {},
   "outputs": [
    {
     "data": {
      "text/plain": [
       "rating\n",
       "70.0     0.039969\n",
       "71.0     0.004902\n",
       "72.0     0.007674\n",
       "73.0     0.011120\n",
       "74.0     0.019718\n",
       "75.0     0.028429\n",
       "76.0     0.033331\n",
       "77.0     0.039436\n",
       "78.0     0.053693\n",
       "79.0     0.051256\n",
       "80.0     0.051340\n",
       "81.0     0.037112\n",
       "82.0     0.049884\n",
       "83.0     0.052965\n",
       "84.0     0.062236\n",
       "85.0     0.065569\n",
       "86.0     0.066129\n",
       "87.0     0.061311\n",
       "88.0     0.045262\n",
       "89.0     0.025432\n",
       "90.0     0.037672\n",
       "91.0     0.014032\n",
       "92.0     0.017730\n",
       "93.0     0.014817\n",
       "94.0     0.015265\n",
       "95.0     0.016665\n",
       "96.0     0.008263\n",
       "97.0     0.006190\n",
       "98.0     0.007030\n",
       "99.0     0.002605\n",
       "100.0    0.001204\n",
       "101.0    0.000252\n",
       "102.0    0.000028\n",
       "103.0    0.000028\n",
       "105.0    0.000028\n",
       "dtype: float64"
      ]
     },
     "execution_count": 162,
     "metadata": {},
     "output_type": "execute_result"
    }
   ],
   "source": [
    "two47.groupby('rating').size()/len(two47)"
   ]
  },
  {
   "cell_type": "code",
   "execution_count": null,
   "id": "twelve-process",
   "metadata": {},
   "outputs": [],
   "source": []
  }
 ],
 "metadata": {
  "kernelspec": {
   "display_name": "Python 3",
   "language": "python",
   "name": "python3"
  },
  "language_info": {
   "codemirror_mode": {
    "name": "ipython",
    "version": 3
   },
   "file_extension": ".py",
   "mimetype": "text/x-python",
   "name": "python",
   "nbconvert_exporter": "python",
   "pygments_lexer": "ipython3",
   "version": "3.6.4"
  }
 },
 "nbformat": 4,
 "nbformat_minor": 5
}
